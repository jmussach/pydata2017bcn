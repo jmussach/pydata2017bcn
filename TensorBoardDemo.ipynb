{
 "cells": [
  {
   "cell_type": "markdown",
   "metadata": {},
   "source": [
    "How to Visualize Your Model with Keras and TensorBoard"
   ]
  },
  {
   "cell_type": "code",
   "execution_count": 2,
   "metadata": {
    "collapsed": false
   },
   "outputs": [],
   "source": [
    "from keras.models import Model\n",
    "from keras.layers import Convolution2D, BatchNormalization, MaxPooling2D, Flatten, Dense\n",
    "from keras.layers import Input, Dropout\n",
    "from keras.layers.advanced_activations import ELU\n",
    "from keras.regularizers import l2\n",
    "\n",
    "import tensorflow as tf\n",
    "\n",
    "from settings import *\n",
    "from train import _get_extended_data, _load_features, _batch_generator, _solid_full_data"
   ]
  },
  {
   "cell_type": "code",
   "execution_count": 3,
   "metadata": {
    "collapsed": true
   },
   "outputs": [],
   "source": [
    "def build_model(n_classes):\n",
    "\n",
    "    with tf.name_scope('input'):\n",
    "        input_shape = (N_MEL_BANDS, SEGMENT_DUR, 1)\n",
    "        channel_axis = 3\n",
    "        melgram_input = Input(shape=input_shape)\n",
    "\n",
    "        m_size = 70\n",
    "        n_size = 3\n",
    "        n_filters = 64\n",
    "        maxpool_const = 4\n",
    "\n",
    "    with tf.name_scope('layer1'):\n",
    "        x = Convolution2D(n_filters, m_size, n_size,\n",
    "                          border_mode='same',\n",
    "                          init='he_normal',\n",
    "                          W_regularizer=l2(1e-5))(melgram_input)\n",
    "\n",
    "        x = BatchNormalization(axis=channel_axis, mode=0)(x)\n",
    "        x = ELU()(x)\n",
    "        x = MaxPooling2D(pool_size=(N_MEL_BANDS, SEGMENT_DUR/maxpool_const))(x)\n",
    "        x = Flatten()(x)\n",
    "\n",
    "    with tf.name_scope('layer2'):\n",
    "        x = Dropout(0.5)(x)\n",
    "        x = Dense(n_classes, init='he_normal', W_regularizer=l2(1e-5), activation='softmax', name='prediction')(x)\n",
    "\n",
    "    with tf.name_scope('final_model'):\n",
    "        model = Model(melgram_input, x)\n",
    "\n",
    "    return model"
   ]
  },
  {
   "cell_type": "code",
   "execution_count": 11,
   "metadata": {
    "collapsed": true
   },
   "outputs": [],
   "source": [
    "dataset = pd.read_csv(IRMAS_TRAINING_META_PATH, names=[\"filename\", \"class_id\"])\n",
    "X_train, X_val, y_train, y_val = train_test_split(list(dataset.filename),\n",
    "                                                  to_categorical(np.array(dataset.class_id, dtype=int)),\n",
    "                                                  test_size=VALIDATION_SPLIT)\n",
    "extended_x_train, extended_y_train = _get_extended_data(X_train, y_train)\n",
    "extended_x_val, extended_y_val = _get_extended_data(X_val, y_val)\n",
    "y_train = extended_y_train\n",
    "y_val = extended_y_val\n",
    "X_train = _load_features(extended_x_train)\n",
    "X_val = _load_features(extended_x_val)"
   ]
  },
  {
   "cell_type": "code",
   "execution_count": 12,
   "metadata": {
    "collapsed": false
   },
   "outputs": [],
   "source": [
    "def train(X_train, X_val, y_train, y_val):\n",
    "    optimizer = SGD(lr=init_lr, momentum=0.9, nesterov=True)\n",
    "\n",
    "    model = build_model(IRMAS_N_CLASSES)\n",
    "\n",
    "    early_stopping = EarlyStopping(monitor='val_loss', patience=EARLY_STOPPING_EPOCH)\n",
    "    save_clb = ModelCheckpoint(\n",
    "        \"{weights_basepath}/\".format(\n",
    "            weights_basepath=MODEL_WEIGHT_BASEPATH) +\n",
    "        \"epoch.{epoch:02d}-val_loss.{val_loss:.3f}\",\n",
    "        monitor='val_loss',\n",
    "        save_best_only=True)\n",
    "    tb = TensorBoard(log_dir='./logs', histogram_freq=1, write_graph=True, write_grads=True)\n",
    "    tb.validation_data = _solid_full_data(X_val, y_val)\n",
    "\n",
    "    model.summary()\n",
    "    model.compile(optimizer=optimizer,\n",
    "                  loss='categorical_crossentropy',\n",
    "                  metrics=['accuracy'])\n",
    "\n",
    "    model.fit_generator(_batch_generator(X_train, y_train),\n",
    "                        samples_per_epoch=SAMPLES_PER_EPOCH,\n",
    "                        nb_epoch=MAX_EPOCH_NUM,\n",
    "                        verbose=2,\n",
    "                        callbacks=[save_clb, early_stopping, tb],\n",
    "                        validation_data=_solid_full_data(X_val, y_val),\n",
    "                        nb_val_samples=SAMPLES_PER_VALIDATION,\n",
    "                        class_weight=None,\n",
    "                        nb_worker=1)"
   ]
  },
  {
   "cell_type": "code",
   "execution_count": null,
   "metadata": {
    "collapsed": true
   },
   "outputs": [],
   "source": [
    "train(X_train, X_val, y_train, y_val)"
   ]
  }
 ],
 "metadata": {
  "kernelspec": {
   "display_name": "Python 2",
   "language": "python",
   "name": "python2"
  },
  "language_info": {
   "codemirror_mode": {
    "name": "ipython",
    "version": 2
   },
   "file_extension": ".py",
   "mimetype": "text/x-python",
   "name": "python",
   "nbconvert_exporter": "python",
   "pygments_lexer": "ipython2",
   "version": "2.7.10"
  }
 },
 "nbformat": 4,
 "nbformat_minor": 2
}
